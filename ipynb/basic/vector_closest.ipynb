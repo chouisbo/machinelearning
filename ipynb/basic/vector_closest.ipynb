{
 "cells": [
  {
   "cell_type": "code",
   "execution_count": 1,
   "metadata": {
    "collapsed": false
   },
   "outputs": [],
   "source": [
    "# import random\n",
    "# random.seed(12)\n",
    "# positions = [(random.random(), random.random()) for _ in range(10000000)]\n",
    "\n",
    "import numpy as np\n",
    "np.random.seed(12)\n",
    "positions = np.random.random((10000000, 2))"
   ]
  },
  {
   "cell_type": "code",
   "execution_count": null,
   "metadata": {
    "collapsed": false
   },
   "outputs": [
    {
     "name": "stdout",
     "output_type": "stream",
     "text": [
      "4358575\n"
     ]
    }
   ],
   "source": [
    "def closest(position, positions):\n",
    "    '''\n",
    "    compute the closest point to the given position in 2D space from a given points set(positions)\n",
    "    '''\n",
    "    x0, y0 = position\n",
    "    dbest, ibest = None, None\n",
    "    for i, (x, y) in enumerate(positions):\n",
    "        # squared Euclidean distance from every position to the position of interest\n",
    "        d = (x - x0) ** 2 + (y - y0) ** 2\n",
    "        if dbest is None or d < dbest:\n",
    "            dbest, ibest = d, i\n",
    "    return ibest\n",
    "\n",
    "%timeit print (closest((.5, .5), positions))"
   ]
  },
  {
   "cell_type": "code",
   "execution_count": null,
   "metadata": {
    "collapsed": false
   },
   "outputs": [],
   "source": [
    "def vector_closest(position, positions):\n",
    "    '''\n",
    "    compute the closest point to the given position in 2D space from a given points set(positions)\n",
    "    '''\n",
    "    x, y = positions[:,0], positions[:,1]\n",
    "    distances = (x - position[0]) ** 2 + (y - position[1]) ** 2\n",
    "    return distances.argmin()\n",
    "\n",
    "\n",
    "%timeit print (vector_closest((.5, .5), positions))"
   ]
  }
 ],
 "metadata": {
  "anaconda-cloud": {},
  "kernelspec": {
   "display_name": "Python [conda root]",
   "language": "python",
   "name": "conda-root-py"
  },
  "language_info": {
   "codemirror_mode": {
    "name": "ipython",
    "version": 3
   },
   "file_extension": ".py",
   "mimetype": "text/x-python",
   "name": "python",
   "nbconvert_exporter": "python",
   "pygments_lexer": "ipython3",
   "version": "3.5.2"
  }
 },
 "nbformat": 4,
 "nbformat_minor": 1
}
