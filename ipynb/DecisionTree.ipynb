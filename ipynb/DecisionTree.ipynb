{
 "cells": [
  {
   "cell_type": "markdown",
   "metadata": {},
   "source": [
    "# DecisionTree"
   ]
  },
  {
   "cell_type": "code",
   "execution_count": 2,
   "metadata": {
    "collapsed": true
   },
   "outputs": [],
   "source": [
    "from sklearn.feature_extraction import DictVectorizer\n",
    "from sklearn import preprocessing\n",
    "from sklearn import tree\n",
    "from sklearn.externals.six import StringIO\n",
    "import csv"
   ]
  },
  {
   "cell_type": "markdown",
   "metadata": {},
   "source": [
    "### 1. read data"
   ]
  },
  {
   "cell_type": "code",
   "execution_count": 22,
   "metadata": {
    "collapsed": false
   },
   "outputs": [
    {
     "name": "stdout",
     "output_type": "stream",
     "text": [
      "['RID', 'age', 'income', 'student', 'credit_rating', 'Class:buys_computer']\n"
     ]
    }
   ],
   "source": [
    "allElectronicsData = open('../data/AllElectronicsData.csv', 'rb')\n",
    "reader  = csv.reader(allElectronicsData)\n",
    "headers = reader.next()\n",
    "print(headers)"
   ]
  },
  {
   "cell_type": "markdown",
   "metadata": {},
   "source": [
    "### 2. preprocessing"
   ]
  },
  {
   "cell_type": "code",
   "execution_count": 23,
   "metadata": {
    "collapsed": false
   },
   "outputs": [],
   "source": [
    "featureList, labelList = [], []\n",
    "for row in reader:\n",
    "    labelList.append(row[len(row) - 1])\n",
    "    rowDict = {}\n",
    "    for i in range(1, len(row) - 1):\n",
    "#         print(row[i])\n",
    "        rowDict[headers[i]] = row[i]\n",
    "#         print(\"rowDict: \", rowDict)\n",
    "    featureList.append(rowDict)"
   ]
  },
  {
   "cell_type": "code",
   "execution_count": 59,
   "metadata": {
    "collapsed": false
   },
   "outputs": [
    {
     "name": "stdout",
     "output_type": "stream",
     "text": [
      "==> original featureList: \n",
      "[('age', 'youth'), ('credit_rating', 'fair'), ('income', 'high'), ('student', 'no')]\n",
      "[('age', 'youth'), ('credit_rating', 'excellent'), ('income', 'high'), ('student', 'no')]\n",
      "[('age', 'middle_aged'), ('credit_rating', 'fair'), ('income', 'high'), ('student', 'no')]\n",
      "[('age', 'senior'), ('credit_rating', 'fair'), ('income', 'medium'), ('student', 'no')]\n",
      "[('age', 'senior'), ('credit_rating', 'fair'), ('income', 'low'), ('student', 'yes')]\n",
      "[('age', 'senior'), ('credit_rating', 'excellent'), ('income', 'low'), ('student', 'yes')]\n",
      "[('age', 'middle_aged'), ('credit_rating', 'excellent'), ('income', 'low'), ('student', 'yes')]\n",
      "[('age', 'youth'), ('credit_rating', 'fair'), ('income', 'medium'), ('student', 'no')]\n",
      "[('age', 'youth'), ('credit_rating', 'fair'), ('income', 'low'), ('student', 'no')]\n",
      "[('age', 'senior'), ('credit_rating', 'fair'), ('income', 'medium'), ('student', 'no')]\n",
      "[('age', 'youth'), ('credit_rating', 'excellent'), ('income', 'medium'), ('student', 'no')]\n",
      "[('age', 'middle_aged'), ('credit_rating', 'excellent'), ('income', 'medium'), ('student', 'yes')]\n",
      "[('age', 'middle_aged'), ('credit_rating', 'fair'), ('income', 'high'), ('student', 'no')]\n",
      "[('age', 'senior'), ('credit_rating', 'excellent'), ('income', 'medium'), ('student', 'no')]\n",
      "==> orinigal labelList:\n",
      "['no', 'no', 'yes', 'yes', 'yes', 'no', 'yes', 'no', 'yes', 'yes', 'yes', 'yes', 'yes', 'no']\n",
      "==> dummyX:\n",
      "[[ 0.  0.  1.  0.  1.  1.  0.  0.  1.  0.]\n",
      " [ 0.  0.  1.  1.  0.  1.  0.  0.  1.  0.]\n",
      " [ 1.  0.  0.  0.  1.  1.  0.  0.  1.  0.]\n",
      " [ 0.  1.  0.  0.  1.  0.  0.  1.  1.  0.]\n",
      " [ 0.  1.  0.  0.  1.  0.  1.  0.  0.  1.]\n",
      " [ 0.  1.  0.  1.  0.  0.  1.  0.  0.  1.]\n",
      " [ 1.  0.  0.  1.  0.  0.  1.  0.  0.  1.]\n",
      " [ 0.  0.  1.  0.  1.  0.  0.  1.  1.  0.]\n",
      " [ 0.  0.  1.  0.  1.  0.  1.  0.  1.  0.]\n",
      " [ 0.  1.  0.  0.  1.  0.  0.  1.  1.  0.]\n",
      " [ 0.  0.  1.  1.  0.  0.  0.  1.  1.  0.]\n",
      " [ 1.  0.  0.  1.  0.  0.  0.  1.  0.  1.]\n",
      " [ 1.  0.  0.  0.  1.  1.  0.  0.  1.  0.]\n",
      " [ 0.  1.  0.  1.  0.  0.  0.  1.  1.  0.]]\n",
      "==> dummyY:\n",
      "[[0]\n",
      " [0]\n",
      " [1]\n",
      " [1]\n",
      " [1]\n",
      " [0]\n",
      " [1]\n",
      " [0]\n",
      " [1]\n",
      " [1]\n",
      " [1]\n",
      " [1]\n",
      " [1]\n",
      " [0]]\n"
     ]
    }
   ],
   "source": [
    "print(\"==> original featureList: \")\n",
    "for record in featureList:\n",
    "    print([(k, record[k]) for k in sorted(record.keys())])\n",
    "print(\"==> orinigal labelList:\")\n",
    "print(labelList)\n",
    "vec = DictVectorizer()\n",
    "dummyX = vec.fit_transform(featureList).toarray()\n",
    "print(\"==> dummyX:\")\n",
    "print(dummyX)\n",
    "lb = preprocessing.LabelBinarizer()\n",
    "dummyY = lb.fit_transform(labelList)\n",
    "print(\"==> dummyY:\")\n",
    "print(dummyY)"
   ]
  },
  {
   "cell_type": "markdown",
   "metadata": {},
   "source": [
    "### 3. use decision tree for classification"
   ]
  },
  {
   "cell_type": "code",
   "execution_count": 60,
   "metadata": {
    "collapsed": false
   },
   "outputs": [
    {
     "name": "stdout",
     "output_type": "stream",
     "text": [
      "DecisionTreeClassifier(class_weight=None, criterion='entropy', max_depth=None,\n",
      "            max_features=None, max_leaf_nodes=None, min_samples_leaf=1,\n",
      "            min_samples_split=2, min_weight_fraction_leaf=0.0,\n",
      "            presort=False, random_state=None, splitter='best')\n"
     ]
    }
   ],
   "source": [
    "clf = tree.DecisionTreeClassifier(criterion=\"entropy\")\n",
    "clf = clf.fit(dummyX, dummyY)\n",
    "print(clf)"
   ]
  },
  {
   "cell_type": "markdown",
   "metadata": {},
   "source": [
    "### 4. visulize the DTree Model"
   ]
  },
  {
   "cell_type": "code",
   "execution_count": 61,
   "metadata": {
    "collapsed": false
   },
   "outputs": [],
   "source": [
    "with open(\"../output/AllElectronicsDataDTreeModel.dot\", 'w') as f:\n",
    "    f = tree.export_graphviz(clf, feature_names=vec.get_feature_names(), out_file = f)"
   ]
  },
  {
   "cell_type": "markdown",
   "metadata": {},
   "source": [
    "### 5. predict"
   ]
  },
  {
   "cell_type": "code",
   "execution_count": 63,
   "metadata": {
    "collapsed": false
   },
   "outputs": [
    {
     "name": "stdout",
     "output_type": "stream",
     "text": [
      "('predict:', '[0]', 'label:', 'no')\n",
      "('predict:', '[0]', 'label:', 'no')\n",
      "('predict:', '[1]', 'label:', 'yes')\n",
      "('predict:', '[1]', 'label:', 'yes')\n",
      "('predict:', '[1]', 'label:', 'yes')\n",
      "('predict:', '[0]', 'label:', 'no')\n",
      "('predict:', '[1]', 'label:', 'yes')\n",
      "('predict:', '[0]', 'label:', 'no')\n",
      "('predict:', '[1]', 'label:', 'yes')\n",
      "('predict:', '[1]', 'label:', 'yes')\n",
      "('predict:', '[1]', 'label:', 'yes')\n",
      "('predict:', '[1]', 'label:', 'yes')\n",
      "('predict:', '[1]', 'label:', 'yes')\n",
      "('predict:', '[0]', 'label:', 'no')\n"
     ]
    }
   ],
   "source": [
    "for i in range(len(labelList)):\n",
    "    print(\"predict:\", str(clf.predict(dummyX[i].reshape(1, -1))), \"label:\", labelList[i])"
   ]
  }
 ],
 "metadata": {
  "anaconda-cloud": {},
  "kernelspec": {
   "display_name": "Python [conda root]",
   "language": "python",
   "name": "conda-root-py"
  },
  "language_info": {
   "codemirror_mode": {
    "name": "ipython",
    "version": 2
   },
   "file_extension": ".py",
   "mimetype": "text/x-python",
   "name": "python",
   "nbconvert_exporter": "python",
   "pygments_lexer": "ipython2",
   "version": "2.7.12"
  }
 },
 "nbformat": 4,
 "nbformat_minor": 1
}
