{
 "cells": [
  {
   "cell_type": "markdown",
   "metadata": {
    "nbpresent": {
     "id": "b46a3efc-366d-4677-a802-47a1d4cf2e0b"
    }
   },
   "source": [
    "First, we construct a DataFrame object with an index of tuples consisting of all pairs of possible dice outcomes."
   ]
  },
  {
   "cell_type": "code",
   "execution_count": 10,
   "metadata": {
    "collapsed": false,
    "nbpresent": {
     "id": "845b6461-2d32-4721-a80a-f4859b0c973a"
    }
   },
   "outputs": [],
   "source": [
    "from pandas import DataFrame\n",
    "\n",
    "d = DataFrame(index = [(i, j) for i in range(1, 7) for j in range(1, 7)],\n",
    "              columns = ['sm', 'd1', 'd2', 'pd1', 'pd2', 'p'])"
   ]
  },
  {
   "cell_type": "markdown",
   "metadata": {
    "nbpresent": {
     "id": "6a618efd-218a-4d2c-8132-7571b2a2bb53"
    }
   },
   "source": [
    "Now, we can populate the columns that we set up above where the outcome of the\n",
    "first die is the d1 column and the outcome of the second die is d2."
   ]
  },
  {
   "cell_type": "code",
   "execution_count": 11,
   "metadata": {
    "collapsed": true,
    "nbpresent": {
     "id": "f885e56a-abf6-4ec4-a2db-c9ce5b8b1c5b"
    }
   },
   "outputs": [],
   "source": [
    "d.d1 = [i[0] for i in d.index]\n",
    "d.d2 = [i[1] for i in d.index]"
   ]
  },
  {
   "cell_type": "markdown",
   "metadata": {
    "nbpresent": {
     "id": "c471ecf5-ffbe-4b73-9e84-134f4fc1d41d"
    }
   },
   "source": [
    "Next, we compute the sum of the dices in the sm column,"
   ]
  },
  {
   "cell_type": "code",
   "execution_count": 12,
   "metadata": {
    "collapsed": true,
    "nbpresent": {
     "id": "b3d4cabf-f636-493b-972a-1e7c255a6851"
    }
   },
   "outputs": [],
   "source": [
    "d.sm = list(map(sum, d.index))"
   ]
  },
  {
   "cell_type": "markdown",
   "metadata": {
    "nbpresent": {
     "id": "fd90b80b-0983-4c81-9b81-c0a860c81a0c"
    }
   },
   "source": [
    "With that established, the DataFrame now looks like the following:"
   ]
  },
  {
   "cell_type": "code",
   "execution_count": 14,
   "metadata": {
    "collapsed": false,
    "nbpresent": {
     "id": "22207838-37f8-45ef-8e13-e8d278b3af27"
    }
   },
   "outputs": [
    {
     "data": {
      "text/html": [
       "<div>\n",
       "<table border=\"1\" class=\"dataframe\">\n",
       "  <thead>\n",
       "    <tr style=\"text-align: right;\">\n",
       "      <th></th>\n",
       "      <th>sm</th>\n",
       "      <th>d1</th>\n",
       "      <th>d2</th>\n",
       "      <th>pd1</th>\n",
       "      <th>pd2</th>\n",
       "      <th>p</th>\n",
       "    </tr>\n",
       "  </thead>\n",
       "  <tbody>\n",
       "    <tr>\n",
       "      <th>(1, 1)</th>\n",
       "      <td>2</td>\n",
       "      <td>1</td>\n",
       "      <td>1</td>\n",
       "      <td>NaN</td>\n",
       "      <td>NaN</td>\n",
       "      <td>NaN</td>\n",
       "    </tr>\n",
       "    <tr>\n",
       "      <th>(1, 2)</th>\n",
       "      <td>3</td>\n",
       "      <td>1</td>\n",
       "      <td>2</td>\n",
       "      <td>NaN</td>\n",
       "      <td>NaN</td>\n",
       "      <td>NaN</td>\n",
       "    </tr>\n",
       "    <tr>\n",
       "      <th>(1, 3)</th>\n",
       "      <td>4</td>\n",
       "      <td>1</td>\n",
       "      <td>3</td>\n",
       "      <td>NaN</td>\n",
       "      <td>NaN</td>\n",
       "      <td>NaN</td>\n",
       "    </tr>\n",
       "    <tr>\n",
       "      <th>(1, 4)</th>\n",
       "      <td>5</td>\n",
       "      <td>1</td>\n",
       "      <td>4</td>\n",
       "      <td>NaN</td>\n",
       "      <td>NaN</td>\n",
       "      <td>NaN</td>\n",
       "    </tr>\n",
       "    <tr>\n",
       "      <th>(1, 5)</th>\n",
       "      <td>6</td>\n",
       "      <td>1</td>\n",
       "      <td>5</td>\n",
       "      <td>NaN</td>\n",
       "      <td>NaN</td>\n",
       "      <td>NaN</td>\n",
       "    </tr>\n",
       "  </tbody>\n",
       "</table>\n",
       "</div>"
      ],
      "text/plain": [
       "        sm  d1  d2  pd1  pd2    p\n",
       "(1, 1)   2   1   1  NaN  NaN  NaN\n",
       "(1, 2)   3   1   2  NaN  NaN  NaN\n",
       "(1, 3)   4   1   3  NaN  NaN  NaN\n",
       "(1, 4)   5   1   4  NaN  NaN  NaN\n",
       "(1, 5)   6   1   5  NaN  NaN  NaN"
      ]
     },
     "execution_count": 14,
     "metadata": {},
     "output_type": "execute_result"
    }
   ],
   "source": [
    "d.head(5)"
   ]
  },
  {
   "cell_type": "markdown",
   "metadata": {
    "nbpresent": {
     "id": "0beab375-5adf-4540-b1fd-8750b53258e0"
    }
   },
   "source": [
    "Next, we fill out the probabilities for each face of the unfair die (d1) and the fair die (d2)."
   ]
  },
  {
   "cell_type": "code",
   "execution_count": 15,
   "metadata": {
    "collapsed": false,
    "nbpresent": {
     "id": "496a0045-0d26-43f2-8d8f-471f25bef4ac"
    }
   },
   "outputs": [
    {
     "data": {
      "text/html": [
       "<div>\n",
       "<table border=\"1\" class=\"dataframe\">\n",
       "  <thead>\n",
       "    <tr style=\"text-align: right;\">\n",
       "      <th></th>\n",
       "      <th>sm</th>\n",
       "      <th>d1</th>\n",
       "      <th>d2</th>\n",
       "      <th>pd1</th>\n",
       "      <th>pd2</th>\n",
       "      <th>p</th>\n",
       "    </tr>\n",
       "  </thead>\n",
       "  <tbody>\n",
       "    <tr>\n",
       "      <th>(1, 1)</th>\n",
       "      <td>2</td>\n",
       "      <td>1</td>\n",
       "      <td>1</td>\n",
       "      <td>0.111111</td>\n",
       "      <td>0.166667</td>\n",
       "      <td>NaN</td>\n",
       "    </tr>\n",
       "    <tr>\n",
       "      <th>(1, 2)</th>\n",
       "      <td>3</td>\n",
       "      <td>1</td>\n",
       "      <td>2</td>\n",
       "      <td>0.111111</td>\n",
       "      <td>0.166667</td>\n",
       "      <td>NaN</td>\n",
       "    </tr>\n",
       "    <tr>\n",
       "      <th>(1, 3)</th>\n",
       "      <td>4</td>\n",
       "      <td>1</td>\n",
       "      <td>3</td>\n",
       "      <td>0.111111</td>\n",
       "      <td>0.166667</td>\n",
       "      <td>NaN</td>\n",
       "    </tr>\n",
       "    <tr>\n",
       "      <th>(1, 4)</th>\n",
       "      <td>5</td>\n",
       "      <td>1</td>\n",
       "      <td>4</td>\n",
       "      <td>0.111111</td>\n",
       "      <td>0.166667</td>\n",
       "      <td>NaN</td>\n",
       "    </tr>\n",
       "    <tr>\n",
       "      <th>(1, 5)</th>\n",
       "      <td>6</td>\n",
       "      <td>1</td>\n",
       "      <td>5</td>\n",
       "      <td>0.111111</td>\n",
       "      <td>0.166667</td>\n",
       "      <td>NaN</td>\n",
       "    </tr>\n",
       "    <tr>\n",
       "      <th>(1, 6)</th>\n",
       "      <td>7</td>\n",
       "      <td>1</td>\n",
       "      <td>6</td>\n",
       "      <td>0.111111</td>\n",
       "      <td>0.166667</td>\n",
       "      <td>NaN</td>\n",
       "    </tr>\n",
       "    <tr>\n",
       "      <th>(2, 1)</th>\n",
       "      <td>3</td>\n",
       "      <td>2</td>\n",
       "      <td>1</td>\n",
       "      <td>0.111111</td>\n",
       "      <td>0.166667</td>\n",
       "      <td>NaN</td>\n",
       "    </tr>\n",
       "    <tr>\n",
       "      <th>(2, 2)</th>\n",
       "      <td>4</td>\n",
       "      <td>2</td>\n",
       "      <td>2</td>\n",
       "      <td>0.111111</td>\n",
       "      <td>0.166667</td>\n",
       "      <td>NaN</td>\n",
       "    </tr>\n",
       "    <tr>\n",
       "      <th>(2, 3)</th>\n",
       "      <td>5</td>\n",
       "      <td>2</td>\n",
       "      <td>3</td>\n",
       "      <td>0.111111</td>\n",
       "      <td>0.166667</td>\n",
       "      <td>NaN</td>\n",
       "    </tr>\n",
       "    <tr>\n",
       "      <th>(2, 4)</th>\n",
       "      <td>6</td>\n",
       "      <td>2</td>\n",
       "      <td>4</td>\n",
       "      <td>0.111111</td>\n",
       "      <td>0.166667</td>\n",
       "      <td>NaN</td>\n",
       "    </tr>\n",
       "  </tbody>\n",
       "</table>\n",
       "</div>"
      ],
      "text/plain": [
       "        sm  d1  d2       pd1       pd2    p\n",
       "(1, 1)   2   1   1  0.111111  0.166667  NaN\n",
       "(1, 2)   3   1   2  0.111111  0.166667  NaN\n",
       "(1, 3)   4   1   3  0.111111  0.166667  NaN\n",
       "(1, 4)   5   1   4  0.111111  0.166667  NaN\n",
       "(1, 5)   6   1   5  0.111111  0.166667  NaN\n",
       "(1, 6)   7   1   6  0.111111  0.166667  NaN\n",
       "(2, 1)   3   2   1  0.111111  0.166667  NaN\n",
       "(2, 2)   4   2   2  0.111111  0.166667  NaN\n",
       "(2, 3)   5   2   3  0.111111  0.166667  NaN\n",
       "(2, 4)   6   2   4  0.111111  0.166667  NaN"
      ]
     },
     "execution_count": 15,
     "metadata": {},
     "output_type": "execute_result"
    }
   ],
   "source": [
    "d.loc[d.d1 <= 3, 'pd1'] = 1/9.\n",
    "d.loc[d.d1 >  3, 'pd1'] = 2/9.\n",
    "d.pd2 = 1/6.\n",
    "d.head(10)"
   ]
  },
  {
   "cell_type": "markdown",
   "metadata": {
    "nbpresent": {
     "id": "b260af1b-0b4d-44d8-86ae-88cfd46d86cd"
    }
   },
   "source": [
    "Finally, we can compute the joint probabilities for the sum of the shown faces as the\n",
    "following:"
   ]
  },
  {
   "cell_type": "code",
   "execution_count": 16,
   "metadata": {
    "collapsed": false,
    "nbpresent": {
     "id": "5c4623b1-cd92-42d3-85ba-cfa0aee756d7"
    }
   },
   "outputs": [
    {
     "data": {
      "text/html": [
       "<div>\n",
       "<table border=\"1\" class=\"dataframe\">\n",
       "  <thead>\n",
       "    <tr style=\"text-align: right;\">\n",
       "      <th></th>\n",
       "      <th>sm</th>\n",
       "      <th>d1</th>\n",
       "      <th>d2</th>\n",
       "      <th>pd1</th>\n",
       "      <th>pd2</th>\n",
       "      <th>p</th>\n",
       "    </tr>\n",
       "  </thead>\n",
       "  <tbody>\n",
       "    <tr>\n",
       "      <th>(1, 1)</th>\n",
       "      <td>2</td>\n",
       "      <td>1</td>\n",
       "      <td>1</td>\n",
       "      <td>0.111111</td>\n",
       "      <td>0.166667</td>\n",
       "      <td>0.0185185</td>\n",
       "    </tr>\n",
       "    <tr>\n",
       "      <th>(1, 2)</th>\n",
       "      <td>3</td>\n",
       "      <td>1</td>\n",
       "      <td>2</td>\n",
       "      <td>0.111111</td>\n",
       "      <td>0.166667</td>\n",
       "      <td>0.0185185</td>\n",
       "    </tr>\n",
       "    <tr>\n",
       "      <th>(1, 3)</th>\n",
       "      <td>4</td>\n",
       "      <td>1</td>\n",
       "      <td>3</td>\n",
       "      <td>0.111111</td>\n",
       "      <td>0.166667</td>\n",
       "      <td>0.0185185</td>\n",
       "    </tr>\n",
       "    <tr>\n",
       "      <th>(1, 4)</th>\n",
       "      <td>5</td>\n",
       "      <td>1</td>\n",
       "      <td>4</td>\n",
       "      <td>0.111111</td>\n",
       "      <td>0.166667</td>\n",
       "      <td>0.0185185</td>\n",
       "    </tr>\n",
       "    <tr>\n",
       "      <th>(1, 5)</th>\n",
       "      <td>6</td>\n",
       "      <td>1</td>\n",
       "      <td>5</td>\n",
       "      <td>0.111111</td>\n",
       "      <td>0.166667</td>\n",
       "      <td>0.0185185</td>\n",
       "    </tr>\n",
       "    <tr>\n",
       "      <th>(1, 6)</th>\n",
       "      <td>7</td>\n",
       "      <td>1</td>\n",
       "      <td>6</td>\n",
       "      <td>0.111111</td>\n",
       "      <td>0.166667</td>\n",
       "      <td>0.0185185</td>\n",
       "    </tr>\n",
       "    <tr>\n",
       "      <th>(2, 1)</th>\n",
       "      <td>3</td>\n",
       "      <td>2</td>\n",
       "      <td>1</td>\n",
       "      <td>0.111111</td>\n",
       "      <td>0.166667</td>\n",
       "      <td>0.0185185</td>\n",
       "    </tr>\n",
       "    <tr>\n",
       "      <th>(2, 2)</th>\n",
       "      <td>4</td>\n",
       "      <td>2</td>\n",
       "      <td>2</td>\n",
       "      <td>0.111111</td>\n",
       "      <td>0.166667</td>\n",
       "      <td>0.0185185</td>\n",
       "    </tr>\n",
       "    <tr>\n",
       "      <th>(2, 3)</th>\n",
       "      <td>5</td>\n",
       "      <td>2</td>\n",
       "      <td>3</td>\n",
       "      <td>0.111111</td>\n",
       "      <td>0.166667</td>\n",
       "      <td>0.0185185</td>\n",
       "    </tr>\n",
       "    <tr>\n",
       "      <th>(2, 4)</th>\n",
       "      <td>6</td>\n",
       "      <td>2</td>\n",
       "      <td>4</td>\n",
       "      <td>0.111111</td>\n",
       "      <td>0.166667</td>\n",
       "      <td>0.0185185</td>\n",
       "    </tr>\n",
       "  </tbody>\n",
       "</table>\n",
       "</div>"
      ],
      "text/plain": [
       "        sm  d1  d2       pd1       pd2          p\n",
       "(1, 1)   2   1   1  0.111111  0.166667  0.0185185\n",
       "(1, 2)   3   1   2  0.111111  0.166667  0.0185185\n",
       "(1, 3)   4   1   3  0.111111  0.166667  0.0185185\n",
       "(1, 4)   5   1   4  0.111111  0.166667  0.0185185\n",
       "(1, 5)   6   1   5  0.111111  0.166667  0.0185185\n",
       "(1, 6)   7   1   6  0.111111  0.166667  0.0185185\n",
       "(2, 1)   3   2   1  0.111111  0.166667  0.0185185\n",
       "(2, 2)   4   2   2  0.111111  0.166667  0.0185185\n",
       "(2, 3)   5   2   3  0.111111  0.166667  0.0185185\n",
       "(2, 4)   6   2   4  0.111111  0.166667  0.0185185"
      ]
     },
     "execution_count": 16,
     "metadata": {},
     "output_type": "execute_result"
    }
   ],
   "source": [
    "d.p = d.pd1 * d.pd2\n",
    "d.head(10)"
   ]
  },
  {
   "cell_type": "markdown",
   "metadata": {
    "nbpresent": {
     "id": "39d8fbc0-a5b6-4f73-a6e9-52457c7d7fbd"
    }
   },
   "source": [
    "With all that established, we can compute the density of all the dice outcomes by\n",
    "using groupby as in the following."
   ]
  },
  {
   "cell_type": "code",
   "execution_count": 19,
   "metadata": {
    "collapsed": false,
    "nbpresent": {
     "id": "d046437d-975e-4946-b0de-e12dc59e930d"
    }
   },
   "outputs": [
    {
     "data": {
      "text/plain": [
       "sm\n",
       "2     0.018519\n",
       "3     0.037037\n",
       "4     0.055556\n",
       "5     0.092593\n",
       "6     0.129630\n",
       "7     0.166667\n",
       "8     0.148148\n",
       "9     0.129630\n",
       "10    0.111111\n",
       "11    0.074074\n",
       "12    0.037037\n",
       "Name: p, dtype: float64"
      ]
     },
     "execution_count": 19,
     "metadata": {},
     "output_type": "execute_result"
    }
   ],
   "source": [
    "d.groupby('sm')['p'].sum()"
   ]
  },
  {
   "cell_type": "code",
   "execution_count": 20,
   "metadata": {
    "collapsed": false,
    "nbpresent": {
     "id": "f158ce2b-62aa-4dd1-86ac-6532a54414bb"
    }
   },
   "outputs": [
    {
     "data": {
      "text/plain": [
       "1.0"
      ]
     },
     "execution_count": 20,
     "metadata": {},
     "output_type": "execute_result"
    }
   ],
   "source": [
    "sum(d.groupby('sm')['p'].sum())"
   ]
  }
 ],
 "metadata": {
  "anaconda-cloud": {},
  "kernelspec": {
   "display_name": "Python [conda root]",
   "language": "python",
   "name": "conda-root-py"
  },
  "language_info": {
   "codemirror_mode": {
    "name": "ipython",
    "version": 3
   },
   "file_extension": ".py",
   "mimetype": "text/x-python",
   "name": "python",
   "nbconvert_exporter": "python",
   "pygments_lexer": "ipython3",
   "version": "3.5.2"
  },
  "nbpresent": {
   "slides": {
    "04f3a78d-427c-40a4-8cd5-d2158dd8030d": {
     "id": "04f3a78d-427c-40a4-8cd5-d2158dd8030d",
     "prev": "6976cce0-9d67-4945-a80a-c2cd1901f206",
     "regions": {
      "e5d6edff-aeef-4107-a0b8-0a15e5bfe56c": {
       "attrs": {
        "height": 0.8,
        "width": 0.8,
        "x": 0.1,
        "y": 0.1
       },
       "content": {
        "cell": "22207838-37f8-45ef-8e13-e8d278b3af27",
        "part": "whole"
       },
       "id": "e5d6edff-aeef-4107-a0b8-0a15e5bfe56c"
      }
     }
    },
    "1e9f6871-786a-4113-b4d1-2817797f24a0": {
     "id": "1e9f6871-786a-4113-b4d1-2817797f24a0",
     "prev": "5092ea5e-fbce-48d1-af35-002ca01852e6",
     "regions": {
      "cb1bbc97-52d8-40c7-a419-155e0a81846d": {
       "attrs": {
        "height": 0.8,
        "width": 0.8,
        "x": 0.1,
        "y": 0.1
       },
       "content": {
        "cell": "39d8fbc0-a5b6-4f73-a6e9-52457c7d7fbd",
        "part": "whole"
       },
       "id": "cb1bbc97-52d8-40c7-a419-155e0a81846d"
      }
     }
    },
    "2b3333dc-616c-4ad6-9105-5ecee2a86b1e": {
     "id": "2b3333dc-616c-4ad6-9105-5ecee2a86b1e",
     "prev": "77616fa4-8688-465c-a04b-4ffdd4ea2438",
     "regions": {
      "3a1acdab-bd22-4ce2-8f2c-ab9150b07626": {
       "attrs": {
        "height": 0.8,
        "width": 0.8,
        "x": 0.1,
        "y": 0.1
       },
       "content": {
        "cell": "b260af1b-0b4d-44d8-86ae-88cfd46d86cd",
        "part": "whole"
       },
       "id": "3a1acdab-bd22-4ce2-8f2c-ab9150b07626"
      }
     }
    },
    "2c2f8d4a-5413-4b9d-83ff-fb62aff3abb3": {
     "id": "2c2f8d4a-5413-4b9d-83ff-fb62aff3abb3",
     "prev": "4e0600df-9785-47b3-9eb0-8cb04763f822",
     "regions": {
      "ec1885c0-00a2-4443-9b4d-fa4dd27f24f6": {
       "attrs": {
        "height": 0.8,
        "width": 0.8,
        "x": 0.1,
        "y": 0.1
       },
       "content": {
        "cell": "c471ecf5-ffbe-4b73-9e84-134f4fc1d41d",
        "part": "whole"
       },
       "id": "ec1885c0-00a2-4443-9b4d-fa4dd27f24f6"
      }
     }
    },
    "4e0600df-9785-47b3-9eb0-8cb04763f822": {
     "id": "4e0600df-9785-47b3-9eb0-8cb04763f822",
     "prev": "ab01f933-a6cc-4ad6-89b7-fc710e134df5",
     "regions": {
      "7164e4d1-c9fb-4a63-b274-650246203aa5": {
       "attrs": {
        "height": 0.8,
        "width": 0.8,
        "x": 0.1,
        "y": 0.1
       },
       "content": {
        "cell": "f885e56a-abf6-4ec4-a2db-c9ce5b8b1c5b",
        "part": "whole"
       },
       "id": "7164e4d1-c9fb-4a63-b274-650246203aa5"
      }
     }
    },
    "5092ea5e-fbce-48d1-af35-002ca01852e6": {
     "id": "5092ea5e-fbce-48d1-af35-002ca01852e6",
     "prev": "2b3333dc-616c-4ad6-9105-5ecee2a86b1e",
     "regions": {
      "390d833b-78a7-4b81-afa9-ebf6cafa3588": {
       "attrs": {
        "height": 0.8,
        "width": 0.8,
        "x": 0.1,
        "y": 0.1
       },
       "content": {
        "cell": "5c4623b1-cd92-42d3-85ba-cfa0aee756d7",
        "part": "whole"
       },
       "id": "390d833b-78a7-4b81-afa9-ebf6cafa3588"
      }
     }
    },
    "58dc8fb2-4402-4003-99e6-7c080f1151f4": {
     "id": "58dc8fb2-4402-4003-99e6-7c080f1151f4",
     "prev": "f9e4e31b-7246-4f59-bfb0-9a1cf5a1c5e1",
     "regions": {
      "d7e6fe12-1e3a-4deb-9954-e7ddbe8191c0": {
       "attrs": {
        "height": 0.8,
        "width": 0.8,
        "x": 0.1,
        "y": 0.1
       },
       "content": {
        "cell": "f158ce2b-62aa-4dd1-86ac-6532a54414bb",
        "part": "whole"
       },
       "id": "d7e6fe12-1e3a-4deb-9954-e7ddbe8191c0"
      }
     }
    },
    "618c5f69-2fdc-49f8-9e62-33d777278b53": {
     "id": "618c5f69-2fdc-49f8-9e62-33d777278b53",
     "prev": "c4d2ebe9-9e13-4ac3-9761-6b5bd2b02481",
     "regions": {
      "6c7026b9-761a-4e99-b9cb-f74fec76f6f6": {
       "attrs": {
        "height": 0.8,
        "width": 0.8,
        "x": 0.1,
        "y": 0.1
       },
       "content": {
        "cell": "845b6461-2d32-4721-a80a-f4859b0c973a",
        "part": "whole"
       },
       "id": "6c7026b9-761a-4e99-b9cb-f74fec76f6f6"
      }
     }
    },
    "6976cce0-9d67-4945-a80a-c2cd1901f206": {
     "id": "6976cce0-9d67-4945-a80a-c2cd1901f206",
     "prev": "6d29d81d-f31c-4e61-9c5f-4be6888ecd57",
     "regions": {
      "022aa72c-ee88-45f4-b0d5-81a9eb18a46b": {
       "attrs": {
        "height": 0.8,
        "width": 0.8,
        "x": 0.1,
        "y": 0.1
       },
       "content": {
        "cell": "fd90b80b-0983-4c81-9b81-c0a860c81a0c",
        "part": "whole"
       },
       "id": "022aa72c-ee88-45f4-b0d5-81a9eb18a46b"
      }
     }
    },
    "6d29d81d-f31c-4e61-9c5f-4be6888ecd57": {
     "id": "6d29d81d-f31c-4e61-9c5f-4be6888ecd57",
     "prev": "2c2f8d4a-5413-4b9d-83ff-fb62aff3abb3",
     "regions": {
      "a904db25-2b0b-43a4-a219-6bb536bf9a50": {
       "attrs": {
        "height": 0.8,
        "width": 0.8,
        "x": 0.1,
        "y": 0.1
       },
       "content": {
        "cell": "b3d4cabf-f636-493b-972a-1e7c255a6851",
        "part": "whole"
       },
       "id": "a904db25-2b0b-43a4-a219-6bb536bf9a50"
      }
     }
    },
    "748577c3-d7a0-422d-91ab-2472cdea98a0": {
     "id": "748577c3-d7a0-422d-91ab-2472cdea98a0",
     "prev": "04f3a78d-427c-40a4-8cd5-d2158dd8030d",
     "regions": {
      "68d36dda-6af6-45a9-8c2a-4723496d6b17": {
       "attrs": {
        "height": 0.8,
        "width": 0.8,
        "x": 0.1,
        "y": 0.1
       },
       "content": {
        "cell": "0beab375-5adf-4540-b1fd-8750b53258e0",
        "part": "whole"
       },
       "id": "68d36dda-6af6-45a9-8c2a-4723496d6b17"
      }
     }
    },
    "77616fa4-8688-465c-a04b-4ffdd4ea2438": {
     "id": "77616fa4-8688-465c-a04b-4ffdd4ea2438",
     "prev": "748577c3-d7a0-422d-91ab-2472cdea98a0",
     "regions": {
      "bf5d6c71-23ca-4910-a5ad-339fd59b32ff": {
       "attrs": {
        "height": 0.8,
        "width": 0.8,
        "x": 0.1,
        "y": 0.1
       },
       "content": {
        "cell": "496a0045-0d26-43f2-8d8f-471f25bef4ac",
        "part": "whole"
       },
       "id": "bf5d6c71-23ca-4910-a5ad-339fd59b32ff"
      }
     }
    },
    "ab01f933-a6cc-4ad6-89b7-fc710e134df5": {
     "id": "ab01f933-a6cc-4ad6-89b7-fc710e134df5",
     "prev": "618c5f69-2fdc-49f8-9e62-33d777278b53",
     "regions": {
      "c57d1054-34cd-4b2b-8e4a-b705fc9c7ad0": {
       "attrs": {
        "height": 0.8,
        "width": 0.8,
        "x": 0.1,
        "y": 0.1
       },
       "content": {
        "cell": "6a618efd-218a-4d2c-8132-7571b2a2bb53",
        "part": "whole"
       },
       "id": "c57d1054-34cd-4b2b-8e4a-b705fc9c7ad0"
      }
     }
    },
    "c4d2ebe9-9e13-4ac3-9761-6b5bd2b02481": {
     "id": "c4d2ebe9-9e13-4ac3-9761-6b5bd2b02481",
     "prev": null,
     "regions": {
      "c0aa863e-db33-4806-9c2b-3fe9fef523ea": {
       "attrs": {
        "height": 0.8,
        "width": 0.8,
        "x": 0.1,
        "y": 0.1
       },
       "content": {
        "cell": "b46a3efc-366d-4677-a802-47a1d4cf2e0b",
        "part": "whole"
       },
       "id": "c0aa863e-db33-4806-9c2b-3fe9fef523ea"
      }
     }
    },
    "f9e4e31b-7246-4f59-bfb0-9a1cf5a1c5e1": {
     "id": "f9e4e31b-7246-4f59-bfb0-9a1cf5a1c5e1",
     "prev": "1e9f6871-786a-4113-b4d1-2817797f24a0",
     "regions": {
      "4c25259f-af05-4563-8c01-b414f18695d9": {
       "attrs": {
        "height": 0.8,
        "width": 0.8,
        "x": 0.1,
        "y": 0.1
       },
       "content": {
        "cell": "d046437d-975e-4946-b0de-e12dc59e930d",
        "part": "whole"
       },
       "id": "4c25259f-af05-4563-8c01-b414f18695d9"
      }
     }
    }
   },
   "themes": {}
  }
 },
 "nbformat": 4,
 "nbformat_minor": 1
}
